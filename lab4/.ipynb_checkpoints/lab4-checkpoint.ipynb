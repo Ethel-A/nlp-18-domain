{
 "cells": [
  {
   "cell_type": "code",
   "execution_count": null,
   "metadata": {},
   "outputs": [],
   "source": [
    "#Using the sciKit learn naive Bayes library.\n",
    "\n",
    "'''Importing Libraries and Loading Datasets'''\n",
    "from sklearn import datasets; #imports datasets that will be used to test the classifier\n",
    "from sklearn import metrics; #imports the evaluation metrics that will be used to compare the classifiers\n",
    "from sklearn.naive_bayes import GaussianNB; #imports that Gaussian Naive Bayes Classifier - which is a naive bayes classifier that works on the assumption that the distribution is Gaussian (normal)\n",
    "\n",
    "dataset = datasets.load_iris(); # loads the iris dataset - which is a class sytem for iris plants\n",
    "\n",
    "'''Creating Naive-Bayes Classifier'''\n",
    "model = GaussianNB();#creates a model that works on the assumption that the distribution is gaussian\n",
    "model.fit(dataset.data, dataset.target); #fits the model to the dataset\n",
    "\n",
    "'''Making Predictions'''\n",
    "expected = dataset.target;\n",
    "predicted = model.predict(dataset.data);#returns the predicted values of the iris dataset\n",
    "\n",
    "'''Testing Accuracy and statisitics on dataset'''\n",
    "print(metrics.classification_report(expected,predicted));\n",
    "print(metrics.confusion_matrix(expected,predicted));\n",
    "\n",
    "#PROGRAM WORKS - NEXT STEP: CHANGE DATASET FOR SENTIMENT CLASSIFICATION"
   ]
  }
 ],
 "metadata": {
  "kernelspec": {
   "display_name": "Python 3",
   "language": "python",
   "name": "python3"
  },
  "language_info": {
   "codemirror_mode": {
    "name": "ipython",
    "version": 3
   },
   "file_extension": ".py",
   "mimetype": "text/x-python",
   "name": "python",
   "nbconvert_exporter": "python",
   "pygments_lexer": "ipython3",
   "version": "3.7.0"
  }
 },
 "nbformat": 4,
 "nbformat_minor": 2
}
