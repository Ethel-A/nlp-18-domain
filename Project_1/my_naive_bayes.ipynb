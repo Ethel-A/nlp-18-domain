{
 "cells": [
  {
   "cell_type": "code",
   "execution_count": 1,
   "metadata": {},
   "outputs": [],
   "source": [
    "def categorise(filename): #function reads the document and adds to the right category\n",
    "    load file\n",
    "    list1 = new list\n",
    "    for line in file:\n",
    "        list(1).add(line)\n",
    "    new list positive\n",
    "    new list negative\n",
    "    for each line:\n",
    "        label = line[-1]\n",
    "        if int(label) == 1:\n",
    "            line.append to list positive\n",
    "        elif int(label) == 0:\n",
    "            line.append to list negative\n",
    "     #Now we have a list of negative sentences and a list of positive sentences\n",
    "    return list positve, list negative\n"
   ]
  },
  {
   "cell_type": "code",
   "execution_count": null,
   "metadata": {},
   "outputs": [],
   "source": [
    "def bag_or_dict():\n",
    "    global list positive, list negative\n",
    "    new array = positive\n",
    "    new array = negative\n",
    "    for x in list positive:\n",
    "        for y in x:\n",
    "            word = string(y)\n",
    "            positive.append(word)\n",
    "    for x in list negative:\n",
    "        for y in x:\n",
    "            word = string(y)\n",
    "            negative.append(word)"
   ]
  },
  {
   "cell_type": "code",
   "execution_count": null,
   "metadata": {},
   "outputs": [],
   "source": [
    "# split file according to word label(+ve/-ve)\n",
    "# for each label find frequency of words\n",
    "# form set of ALL WORDS\n",
    "# probability blah blah blah"
   ]
  }
 ],
 "metadata": {
  "kernelspec": {
   "display_name": "Python 3",
   "language": "python",
   "name": "python3"
  },
  "language_info": {
   "codemirror_mode": {
    "name": "ipython",
    "version": 3
   },
   "file_extension": ".py",
   "mimetype": "text/x-python",
   "name": "python",
   "nbconvert_exporter": "python",
   "pygments_lexer": "ipython3",
   "version": "3.6.6"
  }
 },
 "nbformat": 4,
 "nbformat_minor": 2
}
