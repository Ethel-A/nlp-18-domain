{
 "cells": [
  {
   "cell_type": "code",
   "execution_count": 1,
   "metadata": {},
   "outputs": [],
   "source": [
    "import sys;"
   ]
  },
  {
   "cell_type": "code",
   "execution_count": 2,
   "metadata": {},
   "outputs": [],
   "source": [
    "'''Function to create a matrix of the required lengths'''\n",
    "def matrixer(source, target):\n",
    "    n = len(source);\n",
    "    m = len(target);\n",
    "    matrix = [[0 for j in range(m + 1)] for i in range(n + 1)]; \n",
    "    return matrix;"
   ]
  },
  {
   "cell_type": "code",
   "execution_count": 3,
   "metadata": {},
   "outputs": [],
   "source": [
    "'''Function to calculate the substitution cost'''\n",
    "def sub_cost(i,j, source,target):\n",
    "    if source[i - 1] == target[j - 1]:\n",
    "        subs = 0;\n",
    "    elif source[i - 1] != target[j - 1]:\n",
    "        subs = 2;\n",
    "    return subs;"
   ]
  },
  {
   "cell_type": "code",
   "execution_count": 4,
   "metadata": {},
   "outputs": [],
   "source": [
    "'''Function to fill and find minimum path through matrix'''\n",
    "def main(source, target):\n",
    "    matrix = matrixer(source, target);\n",
    "    source = source.lower();\n",
    "    target = target.lower();\n",
    "    matrix[0][0] = 0;\n",
    "    DEL = 1;\n",
    "    INS = 1;\n",
    "    for i in range (1,len(source) + 1):\n",
    "        matrix[i][0] = matrix[i-1][0] + DEL;\n",
    "    for j in range (1, len(target) + 1):\n",
    "        matrix[0][j] = matrix[0][j-1] + INS;\n",
    "\n",
    "    for i in range(1, len(source) + 1):\n",
    "        for j in range(1, len(target) + 1):\n",
    "            matrix[i][j] = min((matrix[i-1][j] + DEL),(matrix[i-1][j-1] + sub_cost(i,j, source, target)),(matrix[i][j-1] + INS))\n",
    "    \n",
    "    print(\"The Minimum Edit Distance between \" + source + \" and \" + target + \" is \" + str(matrix[len(source)][len(target)]));"
   ]
  },
  {
   "cell_type": "code",
   "execution_count": 10,
   "metadata": {},
   "outputs": [],
   "source": [
    "if __name__ == \"__main__\":\n",
    "    source = str(sys.argv[1]);\n",
    "    target = str(sys.argv[2]);\n",
    "    main(source, target);"
   ]
  },
  {
   "cell_type": "code",
   "execution_count": null,
   "metadata": {},
   "outputs": [],
   "source": []
  }
 ],
 "metadata": {
  "kernelspec": {
   "display_name": "Python 3",
   "language": "python",
   "name": "python3"
  },
  "language_info": {
   "codemirror_mode": {
    "name": "ipython",
    "version": 3
   },
   "file_extension": ".py",
   "mimetype": "text/x-python",
   "name": "python",
   "nbconvert_exporter": "python",
   "pygments_lexer": "ipython3",
   "version": "3.7.0"
  }
 },
 "nbformat": 4,
 "nbformat_minor": 2
}
